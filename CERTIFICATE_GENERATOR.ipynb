{
 "cells": [
  {
   "cell_type": "code",
   "execution_count": 1,
   "metadata": {},
   "outputs": [],
   "source": [
    "import pandas as pd\n",
    "import random\n",
    "import string\n",
    "from PIL import Image, ImageDraw, ImageFont"
   ]
  },
  {
   "cell_type": "code",
   "execution_count": 2,
   "metadata": {},
   "outputs": [],
   "source": [
    "def coupons(names: list, certificate: str, font_path: str): \n",
    "   \n",
    "    for name in names:\n",
    "        im = Image.open(certificate)\n",
    "        d = ImageDraw.Draw(im)\n",
    "        \n",
    "        #To add a credential id, unique for each certificate\n",
    "        cer_id= ''.join(random.choice(string.digits) for i in range(8))\n",
    "        cer_id='cz_'+cer_id\n",
    "        \n",
    "        #position of the credential id\n",
    "        location_id = (482,13) #change the value according to your requirements\n",
    "        \n",
    "        #Width and Height of the certificate\n",
    "        W, H = (1054,816) #change the value according to your certificate dimensions\n",
    "        \n",
    "        #Font style and size of the name\n",
    "        font_name = ImageFont.truetype(font_path, 60) #change the size according to your requirements\n",
    "        \n",
    "        #Font style and size of the credential id\n",
    "        font_id= ImageFont.truetype(\"calibri.ttf\", 20) #change the style and size according to your requirements\n",
    "        \n",
    "        #To get the width and height of the name\n",
    "        w,h = d.textsize(name, font=font_name)\n",
    "        \n",
    "        #To place the name at the centre of the certificate\n",
    "        d.text(((W-w)/2,(H-h)/2),name, fill = \"#1E2E55\",align=\"center\", font = font_name) #change the fill colour according to your requirement\n",
    "        \n",
    "        #To place the credential id\n",
    "        d.text(location_id, cer_id, fill=\"black\", font=font_id) #change the fill colour according to your requirement\n",
    "        \n",
    "        #To save the certificate\n",
    "        im.save(\"Certificate_\" + name + \".png\")\n",
    "    "
   ]
  },
  {
   "cell_type": "code",
   "execution_count": null,
   "metadata": {},
   "outputs": [],
   "source": [
    "if __name__ == \"__main__\": \n",
    "   \n",
    "    #Add the path to your excel file containing the names of the participants\n",
    "    data=pd.read_excel(r'C:\\PATH\\TO\\THE\\FILE\\name-list.xlsx')\n",
    "    \n",
    "    #Add the column name having the names\n",
    "    NAMES = data[\"Name\"].tolist() #change according to your column name\n",
    "      \n",
    "    #Path to font for name\n",
    "    FONT = r\"C:\\PATH\\TO\\THE\\FONT\\Nunito-ExtraBold.ttf\"\n",
    "      \n",
    "    #Path to the file containing the certificate template\n",
    "    CERTIFICATE = r'C:\\PATH\\TO\\THE\\CERTIFICATE FILE\\Certificate.png'\n",
    "    \n",
    "    #Pass the parameters to the coupons function   \n",
    "    coupons(NAMES, CERTIFICATE, FONT) "
   ]
  }
 ],
 "metadata": {
  "kernelspec": {
   "display_name": "Python 3",
   "language": "python",
   "name": "python3"
  },
  "language_info": {
   "codemirror_mode": {
    "name": "ipython",
    "version": 3
   },
   "file_extension": ".py",
   "mimetype": "text/x-python",
   "name": "python",
   "nbconvert_exporter": "python",
   "pygments_lexer": "ipython3",
   "version": "3.7.1"
  }
 },
 "nbformat": 4,
 "nbformat_minor": 2
}
