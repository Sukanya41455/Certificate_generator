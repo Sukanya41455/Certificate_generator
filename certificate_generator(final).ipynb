{
 "cells": [
  {
   "cell_type": "code",
   "execution_count": 9,
   "metadata": {},
   "outputs": [],
   "source": [
    "import pandas as pd\n",
    "import random\n",
    "import string"
   ]
  },
  {
   "cell_type": "code",
   "execution_count": 10,
   "metadata": {},
   "outputs": [],
   "source": [
    "from PIL import Image, ImageDraw, ImageFont"
   ]
  },
  {
   "cell_type": "code",
   "execution_count": 11,
   "metadata": {},
   "outputs": [],
   "source": [
    "data=pd.read_excel(r'C:\\Users\\Sukanya Sahoo\\Desktop\\name-list.xlsx')"
   ]
  },
  {
   "cell_type": "code",
   "execution_count": 12,
   "metadata": {},
   "outputs": [],
   "source": [
    "names=data[\"Name\"].tolist()"
   ]
  },
  {
   "cell_type": "code",
   "execution_count": 22,
   "metadata": {},
   "outputs": [],
   "source": [
    "for i in names:\n",
    "    im = Image.open(r'C:\\Users\\Sukanya Sahoo\\Downloads\\cer2.jpg')\n",
    "    d = ImageDraw.Draw(im)\n",
    "    #letters= string.ascii_lowercase\n",
    "    cer_id= ''.join(random.choice(string.ascii_uppercase + string.digits) for i in range(7))\n",
    "    \n",
    "    location_name = (462, 412)\n",
    "    location_id = (450,500)\n",
    "    font = ImageFont.truetype(\"arial.ttf\", 40)\n",
    "    \n",
    "    d.text(location_name, i, fill = \"black\", font = font)\n",
    "    d.text(location_id, cer_id, fill=\"black\", font=font)"
   ]
  },
  {
   "cell_type": "code",
   "execution_count": 23,
   "metadata": {},
   "outputs": [],
   "source": [
    "im.save(\"certi\" + i + \".pdf\")"
   ]
  },
  {
   "cell_type": "code",
   "execution_count": null,
   "metadata": {},
   "outputs": [],
   "source": []
  }
 ],
 "metadata": {
  "kernelspec": {
   "display_name": "Python 3",
   "language": "python",
   "name": "python3"
  },
  "language_info": {
   "codemirror_mode": {
    "name": "ipython",
    "version": 3
   },
   "file_extension": ".py",
   "mimetype": "text/x-python",
   "name": "python",
   "nbconvert_exporter": "python",
   "pygments_lexer": "ipython3",
   "version": "3.7.1"
  }
 },
 "nbformat": 4,
 "nbformat_minor": 2
}
