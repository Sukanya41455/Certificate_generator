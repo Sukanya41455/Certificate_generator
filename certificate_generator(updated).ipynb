{
 "cells": [
  {
   "cell_type": "code",
   "execution_count": 5,
   "metadata": {},
   "outputs": [],
   "source": [
    "import pandas as pd\n",
    "import random\n",
    "import string"
   ]
  },
  {
   "cell_type": "code",
   "execution_count": 6,
   "metadata": {},
   "outputs": [],
   "source": [
    "from PIL import Image, ImageDraw, ImageFont"
   ]
  },
  {
   "cell_type": "code",
   "execution_count": 7,
   "metadata": {},
   "outputs": [],
   "source": [
    "def coupons(names: list, certificate: str, font_path: str): \n",
    "   \n",
    "    for name in names:\n",
    "        im = Image.open(certificate)\n",
    "        d = ImageDraw.Draw(im)\n",
    "        #letters= string.ascii_lowercase\n",
    "        cer_id= ''.join(random.choice(string.digits) for i in range(8))\n",
    "        cer_id='cz_'+cer_id\n",
    "    \n",
    "        #location_name = (272,356)\n",
    "        location_id = (482,13)\n",
    "        #W, H = (1152,816)\n",
    "        \n",
    "        #w,h = d.textsize(name)\n",
    "        #((W-w)/2,(H-h)/2)\n",
    "    \n",
    "        font_name = ImageFont.truetype(font_path, 60)\n",
    "        font_id= ImageFont.truetype(\"calibri.ttf\", 20)\n",
    "        \n",
    "        w,h = d.textsize(name, font=font_name)\n",
    "    \n",
    "        name_width, _=d.textsize(name,font=font_name)\n",
    "        d.text(((1054-w)/2,364),name, fill = \"#1E2E55\",align=\"center\", font = font_name)\n",
    "        d.text(location_id, cer_id, fill=\"black\", font=font_id)\n",
    "    \n",
    "        im.save(\"awsCertificate_\" + name + \".png\")"
   ]
  },
  {
   "cell_type": "code",
   "execution_count": 8,
   "metadata": {},
   "outputs": [],
   "source": [
    "if __name__ == \"__main__\": \n",
    "   \n",
    "    # some example of names \n",
    "    data=pd.read_excel(r'C:\\Users\\Sukanya Sahoo\\Desktop\\name-list.xlsx')\n",
    "    NAMES = data[\"Name\"].tolist()\n",
    "      \n",
    "    # path to font \n",
    "    FONT = r\"C:\\Users\\Sukanya Sahoo\\Downloads\\Nunito-ExtraBold.ttf\"\n",
    "      \n",
    "    # path to sample certificate \n",
    "    CERTIFICATE = r'C:\\Users\\Sukanya Sahoo\\Downloads\\Serverless_Certificate.png'\n",
    "   \n",
    "    coupons(NAMES, CERTIFICATE, FONT) "
   ]
  },
  {
   "cell_type": "code",
   "execution_count": null,
   "metadata": {},
   "outputs": [],
   "source": []
  }
 ],
 "metadata": {
  "kernelspec": {
   "display_name": "Python 3",
   "language": "python",
   "name": "python3"
  },
  "language_info": {
   "codemirror_mode": {
    "name": "ipython",
    "version": 3
   },
   "file_extension": ".py",
   "mimetype": "text/x-python",
   "name": "python",
   "nbconvert_exporter": "python",
   "pygments_lexer": "ipython3",
   "version": "3.7.1"
  }
 },
 "nbformat": 4,
 "nbformat_minor": 2
}
